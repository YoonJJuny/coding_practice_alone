{
 "cells": [
  {
   "cell_type": "markdown",
   "id": "301893f8",
   "metadata": {},
   "source": [
    "Simple Balanced Parentheses\n",
    "괄호의 사용이 잘 되었는지 잘못 되었는지 판별 해 주는 프로그램을 작성하시오."
   ]
  },
  {
   "cell_type": "code",
   "execution_count": 2,
   "id": "10da095c",
   "metadata": {},
   "outputs": [
    {
     "name": "stdout",
     "output_type": "stream",
     "text": [
      "True\n"
     ]
    }
   ],
   "source": [
    "def sbp(char):\n",
    "    if char.startswith('(') and char.endswith(')') and char.count('(') == char.count(')'):\n",
    "        return True\n",
    "    else:\n",
    "        return False\n",
    "\n",
    "result = sbp(\"()()\")\n",
    "print(result)"
   ]
  },
  {
   "cell_type": "markdown",
   "id": "50732180",
   "metadata": {},
   "source": [
    "Two Printers"
   ]
  },
  {
   "cell_type": "code",
   "execution_count": 3,
   "id": "ab32791e",
   "metadata": {},
   "outputs": [
    {
     "name": "stdout",
     "output_type": "stream",
     "text": [
      "3\n",
      "9\n"
     ]
    }
   ],
   "source": [
    "def Printer(x,y,n):\n",
    "    return round( (n-1) / (1/x + 1/y) + min(x,y)) \n",
    "\n",
    "print(Printer(1,1,5))\n",
    "print(Printer(3,5,4))"
   ]
  },
  {
   "cell_type": "markdown",
   "id": "d52c3e1c",
   "metadata": {},
   "source": [
    "뒤쪽 0의 갯수 구하기\n",
    "이때 N!를 정수로 변환 해 뒤에서 부터 연속되는 0의 갯수를 구하세요."
   ]
  },
  {
   "cell_type": "code",
   "execution_count": 5,
   "id": "c8a3a00d",
   "metadata": {},
   "outputs": [
    {
     "name": "stdout",
     "output_type": "stream",
     "text": [
      "정수는: 3628800 0의 개수는: 2\n"
     ]
    }
   ],
   "source": [
    "def count_zero(n):\n",
    "    result = 1\n",
    "    cnt = 0\n",
    "    for i in range(1,n+1):\n",
    "        result *= i\n",
    "        if i%5 == 0:\n",
    "            cnt += 1\n",
    "        if i%25 == 0:\n",
    "            cnt += 1\n",
    "        if i%125 == 0:\n",
    "            cnt += 1\n",
    "    print(\"정수는:\",result, \"0의 개수는:\",cnt)\n",
    "count_zero(10)"
   ]
  },
  {
   "cell_type": "markdown",
   "id": "f703c083",
   "metadata": {},
   "source": [
    "모스부호 해독"
   ]
  },
  {
   "cell_type": "code",
   "execution_count": 6,
   "id": "96a9f90c",
   "metadata": {},
   "outputs": [
    {
     "name": "stdout",
     "output_type": "stream",
     "text": [
      "HE SLEEPS EARLY \n"
     ]
    }
   ],
   "source": [
    "dic = {'.-':'A','-...':'B','-.-.':'C','-..':'D','.':'E','..-.':'F',\n",
    "    '--.':'G','....':'H','..':'I','.---':'J','-.-':'K','.-..':'L',\n",
    "    '--':'M','-.':'N','---':'O','.--.':'P','--.-':'Q','.-.':'R',\n",
    "    '...':'S','-':'T','..-':'U','...-':'V','.--':'W','-..-':'X',\n",
    "    '-.--':'Y','--..':'Z'}\n",
    "def morse(src):\n",
    "    result = []\n",
    "    for word in src.split(\"  \"):\n",
    "        for char in word.split(\" \"):\n",
    "            result.append(dic[char])\n",
    "        result.append(\" \")\n",
    "    return \"\".join(result)\n",
    "\n",
    "print (morse('.... .  ... .-.. . . .--. ...  . .- .-. .-.. -.--'))"
   ]
  },
  {
   "cell_type": "markdown",
   "id": "e51fd735",
   "metadata": {},
   "source": [
    "주식투자"
   ]
  },
  {
   "cell_type": "code",
   "execution_count": 7,
   "id": "6d610021",
   "metadata": {},
   "outputs": [
    {
     "name": "stdout",
     "output_type": "stream",
     "text": [
      "-125\n",
      "bad\n"
     ]
    }
   ],
   "source": [
    "def invest(n,a,b,c,d):\n",
    "    result = n\n",
    "    result1 = result*((100+a)/100)\n",
    "    result2 = result1*((100+b)/100)\n",
    "    result3 = result2*((100+c)/100)\n",
    "    result4 = result3*((100+d)/100)\n",
    "    print(round(result4-result))\n",
    "    if result4 - result < 0:\n",
    "        print('bad')\n",
    "    elif result4 - result > 0:\n",
    "        print('good')\n",
    "    else:\n",
    "        print('same')\n",
    "invest(10000,10,-10,5,-5)"
   ]
  },
  {
   "cell_type": "markdown",
   "id": "5ae7e617",
   "metadata": {},
   "source": [
    "카드 역배치"
   ]
  },
  {
   "cell_type": "code",
   "execution_count": 8,
   "id": "583556e0",
   "metadata": {},
   "outputs": [
    {
     "name": "stdout",
     "output_type": "stream",
     "text": [
      "[1, 2, 3, 4, 10, 9, 8, 7, 6, 5, 11, 12, 13, 14, 15, 16, 17, 18, 19, 20]\n"
     ]
    }
   ],
   "source": [
    "a = [1,2,3,4,5,6,7,8,9,10,11,12,13,14,15,16,17,18,19,20]\n",
    "b = []\n",
    "def array(m,n):\n",
    "    for i in range(m-1,n):\n",
    "        b.append(a[i])\n",
    "    b.reverse()\n",
    "    \n",
    "    for j in range(m-1,n):\n",
    "        a[j] = b[j-m+1]\n",
    "    print(a)\n",
    "array(5,10)"
   ]
  },
  {
   "cell_type": "markdown",
   "id": "05da70ba",
   "metadata": {},
   "source": [
    "가성비 최대화"
   ]
  },
  {
   "cell_type": "code",
   "execution_count": 10,
   "id": "ea10cda5",
   "metadata": {},
   "outputs": [
    {
     "name": "stdout",
     "output_type": "stream",
     "text": [
      "add_ability:20,30,40\n",
      "14\n"
     ]
    }
   ],
   "source": [
    "machine_price = 10\n",
    "machine_ability = 150\n",
    "add_one_price = 3\n",
    "a = input('add_ability:')\n",
    "b = a.split(',')\n",
    "b = list(map(int, b)) \n",
    "print( int((max(b)+150)/13) )"
   ]
  },
  {
   "cell_type": "markdown",
   "id": "2bfcfddb",
   "metadata": {},
   "source": [
    "Happy Number"
   ]
  },
  {
   "cell_type": "code",
   "execution_count": 12,
   "id": "9a28f285",
   "metadata": {},
   "outputs": [
    {
     "name": "stdout",
     "output_type": "stream",
     "text": [
      "1\n",
      "Happy Number\n"
     ]
    }
   ],
   "source": [
    "n = int(input())\n",
    "visited = set()\n",
    "\n",
    "while True:\n",
    "    if n in visited:\n",
    "        print('Unhappy Number')\n",
    "        break\n",
    "    elif n == 1:\n",
    "        print('Happy Number')\n",
    "        break\n",
    "\n",
    "    visited.add(n)\n",
    "\n",
    "    if n >= 100:\n",
    "        n = (n // 100) ** 2 + ((n // 10) - 10 * (n // 100)) ** 2 + (n % 10) ** 2\n",
    "    elif n < 100:\n",
    "        n = (n // 10) ** 2 + (n % 10) ** 2"
   ]
  },
  {
   "cell_type": "markdown",
   "id": "906d92a8",
   "metadata": {},
   "source": [
    "간단한 몬테카를로 방법(Montecarlo Method)"
   ]
  },
  {
   "cell_type": "code",
   "execution_count": 202,
   "id": "a03d5157",
   "metadata": {},
   "outputs": [
    {
     "name": "stdout",
     "output_type": "stream",
     "text": [
      "pi= 3.1421772\n"
     ]
    }
   ],
   "source": [
    "import random\n",
    "cnt_circle = 0\n",
    "cnt_squar = 0\n",
    "total = 10000000\n",
    "for i in range(total):\n",
    "    x = random.random()\n",
    "    y = random.random()\n",
    "\n",
    "    if x * x + y * y <= 1:\n",
    "        cnt_circle += 1\n",
    "    cnt_squar += 1\n",
    "\n",
    "print('pi=', 4*cnt_circle/cnt_squar)"
   ]
  },
  {
   "cell_type": "markdown",
   "id": "88eac64d",
   "metadata": {},
   "source": [
    "상품 is 뭔들"
   ]
  },
  {
   "cell_type": "code",
   "execution_count": 17,
   "id": "054a8c65",
   "metadata": {},
   "outputs": [
    {
     "name": "stdout",
     "output_type": "stream",
     "text": [
      "10 20\n",
      "당첨확률은?: 1/10\n"
     ]
    }
   ],
   "source": [
    "from fractions import Fraction\n",
    "\n",
    "a = input().split(' ')\n",
    "cnt = 0\n",
    "f = int(a[0])\n",
    "b = int(a[1])\n",
    "for i in range(f+1, b+1):\n",
    "    if i**0.5 == int(i**0.5):\n",
    "        cnt+= 1\n",
    "pop = Fraction(cnt, b-f)\n",
    "print('당첨확률은?:', pop)"
   ]
  },
  {
   "cell_type": "markdown",
   "id": "0e84356a",
   "metadata": {},
   "source": [
    "소수의 개수 구하기"
   ]
  },
  {
   "cell_type": "code",
   "execution_count": 18,
   "id": "81c7072b",
   "metadata": {},
   "outputs": [
    {
     "data": {
      "text/plain": [
       "9592"
      ]
     },
     "execution_count": 18,
     "metadata": {},
     "output_type": "execute_result"
    }
   ],
   "source": [
    "def prime_num(n):\n",
    "    if n == 2 :\n",
    "        return True\n",
    "    elif n%2 == 0 or n == 1 :\n",
    "        return False\n",
    "    for i in range(3, int(n**0.5)+1, 2):\n",
    "        if  n%i == 0 :\n",
    "            return False\n",
    "    return True\n",
    "\n",
    "def solution(m):\n",
    "    cnt = 0\n",
    "    for j in range(2, m+1):\n",
    "        if prime_num(j):\n",
    "            cnt += 1\n",
    "    return cnt\n",
    "solution(100000)"
   ]
  },
  {
   "cell_type": "markdown",
   "id": "82e387e6",
   "metadata": {},
   "source": [
    "친화수"
   ]
  },
  {
   "cell_type": "code",
   "execution_count": 1,
   "id": "924f79b8",
   "metadata": {},
   "outputs": [
    {
     "name": "stdout",
     "output_type": "stream",
     "text": [
      "220 284\n",
      "1184 1210\n",
      "2620 2924\n",
      "5020 5564\n",
      "6232 6368\n"
     ]
    }
   ],
   "source": [
    "def friend(n):\n",
    "    a = []\n",
    "    for i in range(1, n):\n",
    "        if n%i == 0:\n",
    "            a.append(i)\n",
    "    return sum(a)\n",
    "\n",
    "def check(m):\n",
    "    for x in range(m+1):\n",
    "        y = friend(x)\n",
    "        if friend(y) == x and x<y:\n",
    "            print(x, y)\n",
    "check(10000)"
   ]
  },
  {
   "cell_type": "markdown",
   "id": "9a95b678",
   "metadata": {},
   "source": [
    "자릿수를 뒤바꿔 곱했을 때 증가수가 되는 수"
   ]
  },
  {
   "cell_type": "code",
   "execution_count": 42,
   "id": "9cb29815",
   "metadata": {},
   "outputs": [
    {
     "name": "stdout",
     "output_type": "stream",
     "text": [
      "21\n"
     ]
    }
   ],
   "source": [
    "a = []\n",
    "for i in range(10):\n",
    "    for j in range(1, 10):\n",
    "        for k in range(1, 10):\n",
    "            m = (100*j+10*i+k)*(100*k+10*i+j)\n",
    "            a.append(m)\n",
    "\n",
    "cnt = 0\n",
    "for l in range(len(a)):\n",
    "    if str(a[l]) == ''.join(sorted(str(a[l]))):\n",
    "        cnt += 1\n",
    "print(cnt)"
   ]
  },
  {
   "cell_type": "markdown",
   "id": "3ceb6006",
   "metadata": {},
   "source": [
    "타노스의 핑거 스냅"
   ]
  },
  {
   "cell_type": "code",
   "execution_count": 216,
   "id": "954644cc",
   "metadata": {},
   "outputs": [
    {
     "data": {
      "text/plain": [
       "['쿠로미', '폼폼푸린', '도라에몽']"
      ]
     },
     "execution_count": 216,
     "metadata": {},
     "output_type": "execute_result"
    }
   ],
   "source": [
    "import random\n",
    "def tanos(x):\n",
    "    a = len(x)\n",
    "    while len(x)-random.random() > a/2:\n",
    "        y  = random.choice(x)\n",
    "        x.remove(y)\n",
    "    return x\n",
    "tanos(['키티', '쿠로미', '폼폼푸린', '마이멜로디', '짱구', '도라에몽'])"
   ]
  },
  {
   "cell_type": "markdown",
   "id": "00d3d2f6",
   "metadata": {},
   "source": [
    "약수를 찾아라"
   ]
  },
  {
   "cell_type": "code",
   "execution_count": 42,
   "id": "40b7c25d",
   "metadata": {},
   "outputs": [
    {
     "name": "stdout",
     "output_type": "stream",
     "text": [
      "[1, 3, 9, 61, 183, 549, 4495471, 13486413, 40459239, 274223731, 822671193, 2468013579] \n",
      "약수의 개수는 12 개 입니다.\n"
     ]
    }
   ],
   "source": [
    "def div(n):\n",
    "    a = []\n",
    "    for i in range(1, int(n**0.5)+1):\n",
    "        if n%i == 0 :\n",
    "            a.append(i)\n",
    "            a.append(n//i)\n",
    "    b = sorted(set(a))\n",
    "    print(b,'\\n약수의 개수는',len(b),'개 입니다.')\n",
    "div(2468013579)"
   ]
  },
  {
   "cell_type": "markdown",
   "id": "e3b0e5e6",
   "metadata": {},
   "source": [
    "여러 가지 수의 최대공약수, 최소공배수 찾기"
   ]
  },
  {
   "cell_type": "code",
   "execution_count": 47,
   "id": "ee00c5e0",
   "metadata": {},
   "outputs": [
    {
     "name": "stdout",
     "output_type": "stream",
     "text": [
      "[1, 2, 3, 4, 6, 8, 9, 12, 18, 24, 36, 72]\n"
     ]
    },
    {
     "data": {
      "text/plain": [
       "6434959386240"
      ]
     },
     "execution_count": 47,
     "metadata": {},
     "output_type": "execute_result"
    }
   ],
   "source": [
    "import math\n",
    "\n",
    "def multi(l,m,n):\n",
    "    a = []\n",
    "    for i in range(1, max(l,m,n)):\n",
    "        if l%i == 0 and m%i == 0 and n%i == 0:\n",
    "            a.append(i)\n",
    "    print(a)\n",
    "multi(6015240, 1507968, 4530816)\n",
    "\n",
    "math.gcd(6015240, 1507968, 4530816)\n",
    "math.lcm(6015240, 1507968, 4530816)"
   ]
  }
 ],
 "metadata": {
  "kernelspec": {
   "display_name": "Python 3 (ipykernel)",
   "language": "python",
   "name": "python3"
  },
  "language_info": {
   "codemirror_mode": {
    "name": "ipython",
    "version": 3
   },
   "file_extension": ".py",
   "mimetype": "text/x-python",
   "name": "python",
   "nbconvert_exporter": "python",
   "pygments_lexer": "ipython3",
   "version": "3.10.9"
  }
 },
 "nbformat": 4,
 "nbformat_minor": 5
}
