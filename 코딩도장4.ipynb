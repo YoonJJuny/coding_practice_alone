{
 "cells": [
  {
   "cell_type": "markdown",
   "id": "301893f8",
   "metadata": {},
   "source": [
    "Simple Balanced Parentheses\n",
    "괄호의 사용이 잘 되었는지 잘못 되었는지 판별 해 주는 프로그램을 작성하시오."
   ]
  },
  {
   "cell_type": "code",
   "execution_count": 19,
   "id": "10da095c",
   "metadata": {},
   "outputs": [
    {
     "name": "stdout",
     "output_type": "stream",
     "text": [
      "True\n"
     ]
    }
   ],
   "source": [
    "def sbp(char):\n",
    "    if char.startswith('(') and char.endswith(')') and char.count('(') == char.count(')'):\n",
    "        return True\n",
    "    else:\n",
    "        return False\n",
    "\n",
    "result = sbp(\"()()\")\n",
    "print(result)"
   ]
  },
  {
   "cell_type": "markdown",
   "id": "9dfc0169",
   "metadata": {},
   "source": []
  },
  {
   "cell_type": "code",
   "execution_count": null,
   "id": "9e75564e",
   "metadata": {},
   "outputs": [],
   "source": []
  }
 ],
 "metadata": {
  "kernelspec": {
   "display_name": "Python 3 (ipykernel)",
   "language": "python",
   "name": "python3"
  },
  "language_info": {
   "codemirror_mode": {
    "name": "ipython",
    "version": 3
   },
   "file_extension": ".py",
   "mimetype": "text/x-python",
   "name": "python",
   "nbconvert_exporter": "python",
   "pygments_lexer": "ipython3",
   "version": "3.10.9"
  }
 },
 "nbformat": 4,
 "nbformat_minor": 5
}
