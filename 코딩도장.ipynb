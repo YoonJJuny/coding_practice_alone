{
 "cells": [
  {
   "cell_type": "markdown",
   "id": "609dd121",
   "metadata": {},
   "source": [
    "1. 김씨와 이씨는 각각 몇 명 인가요?\n",
    "2. \"이재영\"이란 이름이 몇 번 반복되나요?\n",
    "3. 중복을 제거한 이름을 출력하세요.\n",
    "4. 중복을 제거한 이름을 오름차순으로 정렬하여 출력하세요."
   ]
  },
  {
   "cell_type": "code",
   "execution_count": 13,
   "id": "bb61355f",
   "metadata": {},
   "outputs": [
    {
     "name": "stdout",
     "output_type": "stream",
     "text": [
      "김씨: 2\n",
      "이씨: 6\n"
     ]
    }
   ],
   "source": [
    "a = '이유덕,이재영,권종표,이재영,박민호,강상희,이재영,김지완,최승혁,이성연,박영서,박민호,전경헌,송정환,김재성,이유덕,전경헌'\n",
    "a_list = a.split(',')\n",
    "count_kim = 0\n",
    "for name in a_list:\n",
    "    if name.startswith('김'):\n",
    "        count_kim += 1\n",
    "print('김씨:',count_kim)\n",
    "\n",
    "count_lee = 0\n",
    "for name in a_list:\n",
    "    if name.startswith('이'):\n",
    "        count_lee += 1\n",
    "print('이씨:',count_lee)"
   ]
  },
  {
   "cell_type": "code",
   "execution_count": 18,
   "id": "e76c0060",
   "metadata": {},
   "outputs": [
    {
     "data": {
      "text/plain": [
       "3"
      ]
     },
     "execution_count": 18,
     "metadata": {},
     "output_type": "execute_result"
    }
   ],
   "source": [
    "a = '이유덕,이재영,권종표,이재영,박민호,강상희,이재영,김지완,최승혁,이성연,박영서,박민호,전경헌,송정환,김재성,이유덕,전경헌'\n",
    "a_list = a.split(',')\n",
    "a_list.count('이재영')"
   ]
  },
  {
   "cell_type": "code",
   "execution_count": 19,
   "id": "f0235fe5",
   "metadata": {},
   "outputs": [
    {
     "data": {
      "text/plain": [
       "{'강상희',\n",
       " '권종표',\n",
       " '김재성',\n",
       " '김지완',\n",
       " '박민호',\n",
       " '박영서',\n",
       " '송정환',\n",
       " '이성연',\n",
       " '이유덕',\n",
       " '이재영',\n",
       " '전경헌',\n",
       " '최승혁'}"
      ]
     },
     "execution_count": 19,
     "metadata": {},
     "output_type": "execute_result"
    }
   ],
   "source": [
    "a = '이유덕,이재영,권종표,이재영,박민호,강상희,이재영,김지완,최승혁,이성연,박영서,박민호,전경헌,송정환,김재성,이유덕,전경헌'\n",
    "a_list = a.split(',')\n",
    "set(a_list)"
   ]
  },
  {
   "cell_type": "code",
   "execution_count": 25,
   "id": "374f6f55",
   "metadata": {},
   "outputs": [
    {
     "name": "stdout",
     "output_type": "stream",
     "text": [
      "['강상희', '권종표', '김재성', '김지완', '박민호', '박영서', '송정환', '이성연', '이유덕', '이재영', '전경헌', '최승혁']\n"
     ]
    }
   ],
   "source": [
    "a = '이유덕,이재영,권종표,이재영,박민호,강상희,이재영,김지완,최승혁,이성연,박영서,박민호,전경헌,송정환,김재성,이유덕,전경헌'\n",
    "a_list = a.split(',')\n",
    "b= set(a_list)\n",
    "c= list(b)\n",
    "c.sort()\n",
    "print(c)"
   ]
  },
  {
   "cell_type": "markdown",
   "id": "aa9be2de",
   "metadata": {},
   "source": [
    "n개의 정수를 가진 배열이 있다. 이 배열은 양의정수와 음의 정수를 모두 가지고 있다. 이제 당신은 이 배열을 좀 특별한 방법으로 정렬해야 한다.\n",
    "\n",
    "정렬이 되고 난 후, 음의 정수는 앞쪽에 양의정수는 뒷쪽에 있어야 한다. 또한 양의정수와 음의정수의 순서에는 변함이 없어야 한다."
   ]
  },
  {
   "cell_type": "code",
   "execution_count": 39,
   "id": "18c725ee",
   "metadata": {},
   "outputs": [
    {
     "data": {
      "text/plain": [
       "[-1, -2, 1, 3, 2]"
      ]
     },
     "execution_count": 39,
     "metadata": {},
     "output_type": "execute_result"
    }
   ],
   "source": [
    "def special_sort(arr):\n",
    "    neg_list = []\n",
    "    pos_list = []\n",
    "    for num in arr:\n",
    "        if num < 0:\n",
    "            neg_list.append(num)\n",
    "        else:\n",
    "            pos_list.append(num)\n",
    "    return neg_list + pos_list\n",
    "special_sort([-1, 1, 3, -2, 2])"
   ]
  },
  {
   "cell_type": "markdown",
   "id": "fcf205f8",
   "metadata": {},
   "source": [
    "디지털 시계에 하루동안(00:00~23:59) 3이 표시되는 시간을 초로 환산하면 총 몇 초(second) 일까요?\n",
    "\n",
    "디지털 시계는 하루동안 다음과 같이 시:분(00:00~23:59)으로 표시됩니다."
   ]
  },
  {
   "cell_type": "code",
   "execution_count": 44,
   "id": "2ba62eb6",
   "metadata": {},
   "outputs": [
    {
     "data": {
      "text/plain": [
       "29700"
      ]
     },
     "execution_count": 44,
     "metadata": {},
     "output_type": "execute_result"
    }
   ],
   "source": [
    "3600*3 + 600*21 + 60*5*21"
   ]
  },
  {
   "cell_type": "code",
   "execution_count": 46,
   "id": "3625a100",
   "metadata": {},
   "outputs": [
    {
     "name": "stdout",
     "output_type": "stream",
     "text": [
      "29700\n"
     ]
    }
   ],
   "source": [
    "sumSec=0  \n",
    "for hour in range(24) :\n",
    "    for minute in range(60) : \n",
    "        if '3' in str(hour) or '3' in str(minute) :\n",
    "            sumSec += 60 \n",
    "print(sumSec)"
   ]
  },
  {
   "cell_type": "markdown",
   "id": "3a94f8c7",
   "metadata": {},
   "source": [
    "0~9까지의 문자로 된 숫자를 입력 받았을 때, 이 입력 값이 0~9까지의 숫자가 각각 한 번 씩만 사용된 것인지 확인하는 함수를 구하시오."
   ]
  },
  {
   "cell_type": "code",
   "execution_count": 6,
   "id": "558b50de",
   "metadata": {},
   "outputs": [
    {
     "name": "stdout",
     "output_type": "stream",
     "text": [
      "false\n"
     ]
    }
   ],
   "source": [
    "def sample_check(num):\n",
    "    num_set = set(num)\n",
    "    if len(num) == len(num_set) == 10:\n",
    "        print('ture')\n",
    "    else:\n",
    "        print('false')\n",
    "\n",
    "sample_check('5432109780')"
   ]
  },
  {
   "cell_type": "markdown",
   "id": "101a306d",
   "metadata": {},
   "source": [
    "두 개의 버전을 비교하는 프로그램을 작성해야 한다.\n",
    "\n",
    "버전은 다음처럼 \".\" 으로 구분된 문자열이다.\n",
    "\n",
    "버전 예) 1.0.0, 1.0.23, 1.1\n",
    "\n",
    "두 개의 버전을 비교하는 프로그램을 작성하시오."
   ]
  },
  {
   "cell_type": "code",
   "execution_count": 36,
   "id": "9cbfdbcb",
   "metadata": {},
   "outputs": [
    {
     "data": {
      "text/plain": [
       "'1.1.2'"
      ]
     },
     "execution_count": 36,
     "metadata": {},
     "output_type": "execute_result"
    }
   ],
   "source": [
    "def compare_ver(ver_1, ver_2):\n",
    "    list_1 = ver_1.split('.')\n",
    "    list_2 = ver_2.split('.')\n",
    "    \n",
    "    while len(list_1) > len(list_2):\n",
    "        list_2.append(0)\n",
    "    while len(list_1) < len(list_2):\n",
    "        list_1.append(0)\n",
    "        \n",
    "    for i in range(len(list_1)):\n",
    "        if int(list_1[i]) > int(list_2[i]):\n",
    "            return ver_1\n",
    "        elif int(list_1[i]) < int(list_2[i]):\n",
    "            return ver_2\n",
    "    return ver_1+ '='+ ver_2\n",
    "\n",
    "compare_ver('1.1', '1.1.2')"
   ]
  },
  {
   "cell_type": "markdown",
   "id": "58b7adcd",
   "metadata": {},
   "source": [
    "m~n까지 각 숫자의 개수 구하기"
   ]
  },
  {
   "cell_type": "code",
   "execution_count": 75,
   "id": "dd936899",
   "metadata": {},
   "outputs": [
    {
     "data": {
      "text/plain": [
       "[189, 300, 300, 300, 300, 300, 300, 300, 300, 300]"
      ]
     },
     "execution_count": 75,
     "metadata": {},
     "output_type": "execute_result"
    }
   ],
   "source": [
    "def count_num(m, n):\n",
    "    a = [0]*10\n",
    "    for i in range(m, n+1):\n",
    "        for j in str(i):    \n",
    "            a[int(j)] += 1\n",
    "            \n",
    "    return a\n",
    "\n",
    "count_num(1, 999)"
   ]
  },
  {
   "cell_type": "code",
   "execution_count": null,
   "id": "64b5c0b8",
   "metadata": {},
   "outputs": [],
   "source": [
    "10~1000까지 각 숫자 분해하여 곱하기의 전체 합 구하기"
   ]
  },
  {
   "cell_type": "code",
   "execution_count": 84,
   "id": "daabd729",
   "metadata": {},
   "outputs": [
    {
     "name": "stdout",
     "output_type": "stream",
     "text": [
      "11\n"
     ]
    }
   ],
   "source": [
    "def div_sum(m, n):\n",
    "    result = 0\n",
    "    for i in range(m, n+1):\n",
    "        mul = 1\n",
    "        for j in str(i):\n",
    "            mul *= int(j)\n",
    "        result += mul\n",
    "    print(result)\n",
    "    \n",
    "div_sum(15, 16)"
   ]
  },
  {
   "cell_type": "markdown",
   "id": "52c75b3f",
   "metadata": {},
   "source": [
    "DashInsert 함수는 숫자로 구성된 문자열을 입력받은 뒤, 문자열 내에서 홀수가 연속되면 두 수 사이에 - 를 추가하고, 짝수가 연속되면 * 를 추가하는 기능을 갖고 있다. (예, 454 => 454, 4546793 => 454*67-9-3) DashInsert 함수를 완성하자."
   ]
  },
  {
   "cell_type": "code",
   "execution_count": 107,
   "id": "ef023e2f",
   "metadata": {},
   "outputs": [
    {
     "data": {
      "text/plain": [
       "'454*67-9-3'"
      ]
     },
     "execution_count": 107,
     "metadata": {},
     "output_type": "execute_result"
    }
   ],
   "source": [
    "def dash_insert(n):\n",
    "    result = \"\"\n",
    "    for i in range(len(n)-1):\n",
    "        result += n[i]\n",
    "        if int(n[i])%2 == 0 and int(n[i+1])%2 == 0:\n",
    "            result += '*'\n",
    "        elif int(n[i])%2 == 1 and int(n[i+1])%2 == 1:\n",
    "            result += '-'\n",
    "    result += n[-1]\n",
    "    return result\n",
    "\n",
    "dash_insert('4546793')"
   ]
  },
  {
   "cell_type": "code",
   "execution_count": null,
   "id": "9cbb476b",
   "metadata": {},
   "outputs": [],
   "source": [
    "자기 자신을 제외한 모든 양의 약수들의 합이 자기 자신이 되는 자연수를 완전수라고 한다. 예를 들면, 6과 28은 완전수이다. \n",
    "6=1+2+3 // 1,2,3은 각각 6의 약수 28=1+2+4+7+14 // 1,2,4,7,14는 각각 28의 약수\n",
    "\n",
    "입력으로 자연수 N을 받고, 출력으로 N 이하의 모든 완전수를 출력하는 코드를 작성하라."
   ]
  },
  {
   "cell_type": "code",
   "execution_count": 60,
   "id": "23ef6318",
   "metadata": {},
   "outputs": [
    {
     "name": "stdout",
     "output_type": "stream",
     "text": [
      "6\n",
      "28\n",
      "496\n",
      "8128\n"
     ]
    }
   ],
   "source": [
    "def div_sum(n):\n",
    "    a = []\n",
    "    for i in range(1, n) :\n",
    "        if n%i == 0:\n",
    "            a.append(i)\n",
    "        else:\n",
    "            pass\n",
    "    return sum(a)\n",
    "\n",
    "\n",
    "def perfect_num(m):\n",
    "    for j in range(1, m+1):\n",
    "        if j == div_sum(j):\n",
    "            print(j)\n",
    "            \n",
    "perfect_num(10000)"
   ]
  },
  {
   "cell_type": "code",
   "execution_count": null,
   "id": "098b448d",
   "metadata": {},
   "outputs": [],
   "source": [
    "2진법이란, 어떤 자연수를 0과 1로만 나타내는 것이다. 예를 들어 73은 64(2^6)+8(2^3)+1(2^0)이기 때문에 1001001으로 표현한다.\n",
    "어떤 숫자를 입력받았을 때 그 숫자를 2진법으로 출력하는 프로그램을 작성하시오."
   ]
  },
  {
   "cell_type": "code",
   "execution_count": 67,
   "id": "ace9172d",
   "metadata": {},
   "outputs": [
    {
     "name": "stdout",
     "output_type": "stream",
     "text": [
      "16\n",
      "10000\n"
     ]
    }
   ],
   "source": [
    "a = int(input())\n",
    "b = []\n",
    "while a:\n",
    "    b.append(a%2)\n",
    "    a = int(a/2)\n",
    "\n",
    "b.reverse()\n",
    "b = [str(i) for i in b]\n",
    "print(''.join(b))"
   ]
  }
 ],
 "metadata": {
  "kernelspec": {
   "display_name": "Python 3 (ipykernel)",
   "language": "python",
   "name": "python3"
  },
  "language_info": {
   "codemirror_mode": {
    "name": "ipython",
    "version": 3
   },
   "file_extension": ".py",
   "mimetype": "text/x-python",
   "name": "python",
   "nbconvert_exporter": "python",
   "pygments_lexer": "ipython3",
   "version": "3.10.9"
  }
 },
 "nbformat": 4,
 "nbformat_minor": 5
}
