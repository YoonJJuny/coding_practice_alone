{
 "cells": [
  {
   "cell_type": "markdown",
   "id": "67018456",
   "metadata": {},
   "source": [
    "정수와 소수 구분하기"
   ]
  },
  {
   "cell_type": "code",
   "execution_count": null,
   "id": "732c69ac",
   "metadata": {},
   "outputs": [],
   "source": [
    "def number(n):\n",
    "    try:\n",
    "        num = float(n)\n",
    "        if n - int(n) == 0 :\n",
    "            print(\"정수\")\n",
    "        else:\n",
    "            print(\"소수\")\n",
    "    except :\n",
    "        print(\"math error\")\n",
    "number(6757)"
   ]
  },
  {
   "cell_type": "markdown",
   "id": "dadf687b",
   "metadata": {},
   "source": [
    "기계의 마라톤 기록"
   ]
  },
  {
   "cell_type": "code",
   "execution_count": null,
   "id": "ee30be96",
   "metadata": {},
   "outputs": [],
   "source": [
    "import time\n",
    "hundred = input('100m 기록:')\n",
    "record = int(hundred)*421.95\n",
    "hours = record // 3600\n",
    "minutes = (record % 3600) // 60\n",
    "seconds = record % 60\n",
    "print(f'마라톤 기록: {hours:.0f}시간 {minutes:.0f}분 {seconds:.2f}초')"
   ]
  },
  {
   "cell_type": "markdown",
   "id": "70396b38",
   "metadata": {},
   "source": [
    "수 암호화 프로그램"
   ]
  },
  {
   "cell_type": "code",
   "execution_count": null,
   "id": "d7cc76bf",
   "metadata": {},
   "outputs": [],
   "source": [
    "def encode(n):\n",
    "    password = int((n**0.5)*1000)-n\n",
    "    return password\n",
    "\n",
    "for i in range(1000000):\n",
    "    if i == encode(i):\n",
    "        print(i)"
   ]
  },
  {
   "cell_type": "markdown",
   "id": "caeb5213",
   "metadata": {},
   "source": [
    "업앤다운 UP&Down 숫자맞히기 게임"
   ]
  },
  {
   "cell_type": "code",
   "execution_count": 4,
   "id": "c114ef38",
   "metadata": {},
   "outputs": [
    {
     "name": "stdout",
     "output_type": "stream",
     "text": [
      "숫자를 입력하세요40\n",
      "업\n",
      "70\n",
      "업\n",
      "85\n",
      "업\n",
      "90\n",
      "정답입니다\n",
      "4 회 만에 맞혔습니다.\n"
     ]
    }
   ],
   "source": [
    "import random\n",
    "n = int(input('숫자를 입력하세요'))    \n",
    "r = random.randint(1,100)\n",
    "cnt = 1\n",
    "while True:\n",
    "    if n == r:\n",
    "        print('정답입니다')\n",
    "        print(cnt,'회 만에 맞혔습니다.')\n",
    "        break\n",
    "    elif n > r:\n",
    "        print('다운')\n",
    "        cnt += 1\n",
    "        n = int(input())\n",
    "    elif n < r:\n",
    "        print('업')\n",
    "        cnt += 1\n",
    "        n = int(input())"
   ]
  },
  {
   "cell_type": "markdown",
   "id": "dc59f51b",
   "metadata": {},
   "source": [
    "연립일차방정식의 해 계산기\n",
    "ax + by = c\n",
    "dx + ey = f"
   ]
  },
  {
   "cell_type": "code",
   "execution_count": 14,
   "id": "15ae59b3",
   "metadata": {},
   "outputs": [
    {
     "name": "stdout",
     "output_type": "stream",
     "text": [
      "해는 모든 실수\n"
     ]
    }
   ],
   "source": [
    "def equa(a,b,c,d,e,f):\n",
    "    if a/d == b/e == c/f:\n",
    "        print('해는 모든 실수')\n",
    "    elif a/d == b/e != c/f:\n",
    "        print('해가 없다')\n",
    "    else:\n",
    "        print('x=',(b*f-c*e)/(b*d-a*e))\n",
    "        print('y=',(a*f-c*d)/(a*e-b*d))\n",
    "equa(1,2,4,2,4,8)"
   ]
  },
  {
   "cell_type": "markdown",
   "id": "58271e80",
   "metadata": {},
   "source": [
    "0부터 9999까지 8을 포함하지 않는 수는 총 몇개일까?"
   ]
  },
  {
   "cell_type": "code",
   "execution_count": 16,
   "id": "e9d7e9d0",
   "metadata": {},
   "outputs": [
    {
     "data": {
      "text/plain": [
       "6561"
      ]
     },
     "execution_count": 16,
     "metadata": {},
     "output_type": "execute_result"
    }
   ],
   "source": [
    "8*9*9*9+8*9*9+8*9+9"
   ]
  },
  {
   "cell_type": "markdown",
   "id": "8a511500",
   "metadata": {},
   "source": [
    "1부터 10,000까지 8이라는 숫자가 총 몇번 나오는가?"
   ]
  },
  {
   "cell_type": "code",
   "execution_count": 18,
   "id": "8435a5c4",
   "metadata": {},
   "outputs": [
    {
     "data": {
      "text/plain": [
       "4000"
      ]
     },
     "execution_count": 18,
     "metadata": {},
     "output_type": "execute_result"
    }
   ],
   "source": [
    "4+3*4*9+2*6*9*9+4*9*9*9"
   ]
  },
  {
   "cell_type": "markdown",
   "id": "37b248d1",
   "metadata": {},
   "source": [
    "Primary Arithmetic"
   ]
  },
  {
   "cell_type": "code",
   "execution_count": 91,
   "id": "d92a507a",
   "metadata": {},
   "outputs": [
    {
     "name": "stdout",
     "output_type": "stream",
     "text": [
      "1\n"
     ]
    }
   ],
   "source": [
    "def pa(a, b):\n",
    "    a = str(a)\n",
    "    b = str(b)\n",
    "    cnt = 0\n",
    "    acs  = False\n",
    "    for i in range(1, max(len(a), len(b)) + 1):\n",
    "        if int(a[-i]) + int(b[-i]) >= 10 or int(a[-i])+int(b[-i]) == 9 and acs == True:\n",
    "            cnt += 1\n",
    "            acs == True\n",
    "        else: acs == False\n",
    "    print(cnt)\n",
    "pa(234, 769)"
   ]
  },
  {
   "cell_type": "markdown",
   "id": "94d2f346",
   "metadata": {},
   "source": [
    "아래 조건에 따라 리스트를 회전하는 프로그램을 작성하시오.\n",
    "\n",
    "입력값은 한 행의 문자열로 주어지며, 각 값은 공백으로 구분된다.\n",
    "첫 번째 값은 리스트를 회전하는 양과 방향(음수의 경우 좌측으로, 양수의 경우 우측으로 회전)이다.\n",
    "첫 번째 값을 제외한 나머지 값은 리스트의 각 항목의 값이다.\n",
    "회전된 리스트를 문자열로 출력한다.\n",
    "구현에 이용할 자료구조에 대한 조건이나 제약은 없다.\n",
    "입력되는 리스트의 항목의 개수는 유한한다."
   ]
  },
  {
   "cell_type": "code",
   "execution_count": 103,
   "id": "516cb058",
   "metadata": {},
   "outputs": [
    {
     "data": {
      "text/plain": [
       "'사 가나 다라 마바'"
      ]
     },
     "execution_count": 103,
     "metadata": {},
     "output_type": "execute_result"
    }
   ],
   "source": [
    "def rotate(li):\n",
    "    b = li.split(\" \")\n",
    "    a = int(b.pop(0))\n",
    "    a = a % len(b)\n",
    "    b = b[-a:] + b[:-a]\n",
    "    return \" \".join(b)\n",
    "rotate('5 가나 다라 마바 사')"
   ]
  },
  {
   "cell_type": "markdown",
   "id": "ea8e26b2",
   "metadata": {},
   "source": [
    "1차원의 점들이 주어졌을 때, 그 중 가장 거리가 짧은 것의 쌍을 출력하는 함수를 작성하시오. (단 점들의 배열은 모두 정렬되어있다고 가정한다.)"
   ]
  },
  {
   "cell_type": "code",
   "execution_count": 113,
   "id": "75f250af",
   "metadata": {
    "scrolled": true
   },
   "outputs": [
    {
     "name": "stdout",
     "output_type": "stream",
     "text": [
      "1,3,4,8,13,17,20\n",
      "('3', '4')\n"
     ]
    }
   ],
   "source": [
    "a = input().split(',')\n",
    "b = []\n",
    "d = float('inf')\n",
    "for i in range(len(a)-1):\n",
    "    c = int(a[i+1])-int(a[i])\n",
    "    if c < d:\n",
    "        d = c\n",
    "        close = (a[i], a[i+1])\n",
    "print(close)"
   ]
  },
  {
   "cell_type": "markdown",
   "id": "b01ca35b",
   "metadata": {},
   "source": [
    "Light More Light"
   ]
  },
  {
   "cell_type": "code",
   "execution_count": 133,
   "id": "d72dcba2",
   "metadata": {},
   "outputs": [
    {
     "name": "stdout",
     "output_type": "stream",
     "text": [
      "yes\n"
     ]
    }
   ],
   "source": [
    "def light(n):\n",
    "    if n**0.5 == int(n**0.5):\n",
    "        print('no')\n",
    "    else:\n",
    "        print('yes')\n",
    "light(4294967295)"
   ]
  },
  {
   "cell_type": "markdown",
   "id": "b54d6183",
   "metadata": {},
   "source": []
  },
  {
   "cell_type": "code",
   "execution_count": 6,
   "id": "f086be90",
   "metadata": {},
   "outputs": [
    {
     "data": {
      "text/plain": [
       "12"
      ]
     },
     "execution_count": 6,
     "metadata": {},
     "output_type": "execute_result"
    }
   ],
   "source": [
    "#Ones\n",
    "def ones(n):\n",
    "    r=1\n",
    "    while int('1'*r)%n!=0 :\n",
    "        r+=1\n",
    "    return r\n",
    "ones(9901)"
   ]
  }
 ],
 "metadata": {
  "kernelspec": {
   "display_name": "Python 3 (ipykernel)",
   "language": "python",
   "name": "python3"
  },
  "language_info": {
   "codemirror_mode": {
    "name": "ipython",
    "version": 3
   },
   "file_extension": ".py",
   "mimetype": "text/x-python",
   "name": "python",
   "nbconvert_exporter": "python",
   "pygments_lexer": "ipython3",
   "version": "3.10.9"
  }
 },
 "nbformat": 4,
 "nbformat_minor": 5
}
