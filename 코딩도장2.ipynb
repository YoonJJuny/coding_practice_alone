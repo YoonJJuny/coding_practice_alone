{
 "cells": [
  {
   "cell_type": "markdown",
   "id": "e5c584a2",
   "metadata": {},
   "source": [
    "3개의 숫자를 입력으로 받고 3개의 숫자 중에 중간값을 가지는 숫자를 출력하세요. ex1) 2, 5, 3 => 3 ex2) 4, 6, 4 => 4"
   ]
  },
  {
   "cell_type": "code",
   "execution_count": 1,
   "id": "d4bcf7f5",
   "metadata": {},
   "outputs": [
    {
     "name": "stdout",
     "output_type": "stream",
     "text": [
      "2,3,8\n",
      "3\n"
     ]
    }
   ],
   "source": [
    "a = input()\n",
    "b = a.split(',')\n",
    "c = sorted(b)\n",
    "print(c[1])"
   ]
  },
  {
   "cell_type": "code",
   "execution_count": null,
   "id": "1dda3337",
   "metadata": {},
   "outputs": [],
   "source": [
    "양의 정수만 입력으로 받고 그 수의 자릿수를 출력해보자. "
   ]
  },
  {
   "cell_type": "code",
   "execution_count": 2,
   "id": "513d83a8",
   "metadata": {},
   "outputs": [
    {
     "name": "stdout",
     "output_type": "stream",
     "text": [
      "양의정수만 입력하세요\n",
      "4213\n",
      "자릿수는 4 입니다.\n"
     ]
    }
   ],
   "source": [
    "print(\"양의정수만 입력하세요\")\n",
    "x = int(input())\n",
    "b = 0\n",
    "while x >= 1:\n",
    "    x = x/10\n",
    "    b += 1\n",
    "print(\"자릿수는\", b, \"입니다.\")"
   ]
  },
  {
   "cell_type": "code",
   "execution_count": null,
   "id": "b4d72e24",
   "metadata": {},
   "outputs": [],
   "source": [
    "공백을 제외한 글자수 세기"
   ]
  },
  {
   "cell_type": "code",
   "execution_count": 3,
   "id": "59ee7445",
   "metadata": {},
   "outputs": [
    {
     "name": "stdout",
     "output_type": "stream",
     "text": [
      "강의시 너무 더워요\n",
      "8\n"
     ]
    }
   ],
   "source": [
    "a = input()\n",
    "b = a.replace(\" \", \"\")\n",
    "c = b.replace(\"\\n\", \"\")\n",
    "print(len(c))"
   ]
  },
  {
   "cell_type": "markdown",
   "id": "36ea2ef9",
   "metadata": {},
   "source": [
    "배열 [a, b, c, d]를 입력하면 배열[bcd, acd, abd, abc]를 출력하는 코드를 작성하시오.\n",
    "\n",
    "(단, 나눗셈 사용 금지)"
   ]
  },
  {
   "cell_type": "code",
   "execution_count": 19,
   "id": "4e3b210b",
   "metadata": {},
   "outputs": [
    {
     "name": "stdout",
     "output_type": "stream",
     "text": [
      "2, 6, 4, 7, 3\n",
      "[504, 168, 252, 144, 336]\n"
     ]
    }
   ],
   "source": [
    "a = input()\n",
    "b = a.split(', ')\n",
    "c = []\n",
    "d = len(b)\n",
    "for i in range(d):\n",
    "    total = 1\n",
    "    for j in range(d):\n",
    "        if i == j :\n",
    "            pass\n",
    "        else:\n",
    "            total *= int(b[j])\n",
    "    c.append(total)\n",
    "print(c)"
   ]
  },
  {
   "cell_type": "markdown",
   "id": "bc703b6d",
   "metadata": {},
   "source": [
    "문자에 해당하는 아스키코드를 알아내는 코드"
   ]
  },
  {
   "cell_type": "code",
   "execution_count": 20,
   "id": "c739c7bd",
   "metadata": {},
   "outputs": [
    {
     "name": "stdout",
     "output_type": "stream",
     "text": [
      "a는 아스키코드로 97입니다.\n",
      "d는 아스키코드로 100입니다.\n",
      "A는 아스키코드로 65입니다.\n"
     ]
    }
   ],
   "source": [
    "test = [\"a\", \"d\", \"A\"]\n",
    "for t in test:\n",
    "    print(\"{}는 아스키코드로 {}입니다.\".format(t, ord(t)))"
   ]
  },
  {
   "cell_type": "markdown",
   "id": "874f9b09",
   "metadata": {},
   "source": [
    "문자열을 제거한뒤 숫자만반환"
   ]
  },
  {
   "cell_type": "code",
   "execution_count": 25,
   "id": "e1eb1b24",
   "metadata": {},
   "outputs": [
    {
     "name": "stdout",
     "output_type": "stream",
     "text": [
      "ㄴㅇ롬너ㅏ32432ㅛ49832ㅛㄴㅇ\n",
      "3243249832\n"
     ]
    }
   ],
   "source": [
    "a = input()\n",
    "digits = ''.join(filter(str.isdigit, a))\n",
    "print(digits)"
   ]
  },
  {
   "cell_type": "markdown",
   "id": "c5c93886",
   "metadata": {},
   "source": [
    "숫자를 입력받으면 그에해당하는 자릿수를 출력하는 코드를 작성하라."
   ]
  },
  {
   "cell_type": "code",
   "execution_count": 7,
   "id": "263cfe1e",
   "metadata": {},
   "outputs": [
    {
     "name": "stdout",
     "output_type": "stream",
     "text": [
      "숫자를입력하세요:10\n",
      "10 의자릿수\n"
     ]
    }
   ],
   "source": [
    "num = input(\"숫자를입력하세요:\")\n",
    "def count_digit(num):\n",
    "    result = '1'\n",
    "    num = len(num) -1\n",
    "    for i in range(num):\n",
    "        result = result + \"0\"\n",
    "    return result\n",
    "\n",
    "print(count_digit(num),\"의자릿수\")"
   ]
  },
  {
   "cell_type": "markdown",
   "id": "5b28cb28",
   "metadata": {},
   "source": [
    "리스트에 있는 숫자들의 평균을 구하는 프로그램을 만들어라."
   ]
  },
  {
   "cell_type": "code",
   "execution_count": 13,
   "id": "d7fa0277",
   "metadata": {},
   "outputs": [
    {
     "name": "stdout",
     "output_type": "stream",
     "text": [
      "4 5 6 \n",
      "5.0\n"
     ]
    }
   ],
   "source": [
    "avg = list(map(int,input().split()))\n",
    "print(sum(avg)/len(avg))"
   ]
  },
  {
   "cell_type": "markdown",
   "id": "d7df4fe9",
   "metadata": {},
   "source": [
    "리스트에 있는 숫자들의 중앙값을 구하는 프로그램을 만들어라."
   ]
  },
  {
   "cell_type": "code",
   "execution_count": 46,
   "id": "f2245757",
   "metadata": {},
   "outputs": [
    {
     "name": "stdout",
     "output_type": "stream",
     "text": [
      "31\n"
     ]
    }
   ],
   "source": [
    "def center(n):\n",
    "    a = n.split(' ')\n",
    "    b = len(a)\n",
    "    c = sorted(a)\n",
    "    if b%2 == 1:\n",
    "        print(c[b//2])\n",
    "    else:\n",
    "        print((int(c[b//2])+int(c[b//2-1]))/2)\n",
    "        \n",
    "center('24 31 1 53 49')"
   ]
  },
  {
   "cell_type": "markdown",
   "id": "662a18bc",
   "metadata": {},
   "source": [
    "홀수와 짝수의 개수를 구하는 프로그램을 만들어라."
   ]
  },
  {
   "cell_type": "code",
   "execution_count": 57,
   "id": "c127a287",
   "metadata": {},
   "outputs": [
    {
     "name": "stdout",
     "output_type": "stream",
     "text": [
      " 짝수 2 개 \n",
      " 홀수 3 개\n"
     ]
    }
   ],
   "source": [
    "a = [3, 4, 5, 6, 7]\n",
    "even = 0\n",
    "odd = 0\n",
    "for i in range(len(a)):\n",
    "    if a[i]%2 == 0:\n",
    "        even += 1\n",
    "    else :\n",
    "        odd += 1\n",
    "print(\" 짝수\",even,\"개\",\"\\n\",\"홀수\",odd,\"개\")"
   ]
  },
  {
   "cell_type": "markdown",
   "id": "b794928e",
   "metadata": {},
   "source": [
    "3개의 각으로 삼각형의 예각, 직각, 둔각을 구별하는 프로그램을 만들어라."
   ]
  },
  {
   "cell_type": "code",
   "execution_count": 73,
   "id": "26331dc7",
   "metadata": {},
   "outputs": [
    {
     "name": "stdout",
     "output_type": "stream",
     "text": [
      "둔각삼각형\n"
     ]
    }
   ],
   "source": [
    "def triangle(a, b, c):\n",
    "    if a+b+c != 180:\n",
    "        print('삼각형이 아니다.')\n",
    "    elif a<=0 or b<=0 or c<=0:\n",
    "        print('삼각형이 아니다.')\n",
    "    elif a<90 and b<90 and c<90:\n",
    "        print('예각삼각형')\n",
    "    elif a==90 or b==90 or c==90:\n",
    "        print('직각삼각형')\n",
    "    elif a>90 or b>90 or c>90:\n",
    "        print('둔각삼각형')\n",
    "        \n",
    "triangle(178, 1, 1)"
   ]
  },
  {
   "cell_type": "markdown",
   "id": "e86efc94",
   "metadata": {},
   "source": [
    "각 자릿수의 합을 구할 수 있나요?"
   ]
  },
  {
   "cell_type": "code",
   "execution_count": 80,
   "id": "51c6adf0",
   "metadata": {},
   "outputs": [
    {
     "name": "stdout",
     "output_type": "stream",
     "text": [
      "36\n"
     ]
    }
   ],
   "source": [
    "def total(n):\n",
    "    a = str(n)\n",
    "    b = 0\n",
    "    for i in range(len(a)):\n",
    "        b += int(a[i])\n",
    "    print(b)\n",
    "total(6719283)"
   ]
  },
  {
   "cell_type": "markdown",
   "id": "7be699d1",
   "metadata": {},
   "source": [
    "가위 바위 보!"
   ]
  },
  {
   "cell_type": "code",
   "execution_count": 225,
   "id": "9eb087ea",
   "metadata": {},
   "outputs": [
    {
     "name": "stdout",
     "output_type": "stream",
     "text": [
      "user: 바위 computer: 보 패배\n"
     ]
    }
   ],
   "source": [
    "import random\n",
    "rsp = ('가위', '바위', '보')\n",
    "\n",
    "def hand_game(n):\n",
    "    computer_choice = random.choice(rsp)\n",
    "    if n ==  computer_choice :\n",
    "        print('user:', n, 'computer:', computer_choice, '무승부')\n",
    "    elif n == '가위' and computer_choice == '바위':\n",
    "        print('user:', n, 'computer:', computer_choice, '패배')\n",
    "    elif n == '가위' and computer_choice == '보':\n",
    "        print('user:', n, 'computer:', computer_choice, '승리')\n",
    "    elif n == '바위'and computer_choice == '가위':\n",
    "        print('user:', n, 'computer:', computer_choice, '승리')\n",
    "    elif n == '바위' and computer_choice == '보':\n",
    "        print('user:', n, 'computer:', computer_choice, '패배')\n",
    "    elif n == '보'and computer_choice == '가위':\n",
    "        print('user:', n, 'computer:', computer_choice, '패배')\n",
    "    elif n == '보' and computer_choice == '바위':\n",
    "        print('user:', n, 'computer:', computer_choice, '승리')\n",
    "        \n",
    "hand_game('바위')"
   ]
  },
  {
   "cell_type": "markdown",
   "id": "ee74e31c",
   "metadata": {},
   "source": [
    "남은퇴근시간 계산기"
   ]
  },
  {
   "cell_type": "code",
   "execution_count": 34,
   "id": "5f08c52e",
   "metadata": {},
   "outputs": [
    {
     "name": "stdout",
     "output_type": "stream",
     "text": [
      "남은 시간: 2시간 44분 12초\n"
     ]
    }
   ],
   "source": [
    "import time\n",
    "\n",
    "leave_time = '17:50:00'\n",
    "current_time = time.strftime('%H:%M:%S', time.localtime())\n",
    "\n",
    "leave_sec = sum(int(x) * 60**i for i, x in enumerate(leave_time.split(':')[::-1]))\n",
    "current_sec = sum(int(x) * 60**i for i, x in enumerate(current_time.split(':')[::-1]))\n",
    "\n",
    "time_difference = leave_sec - current_sec\n",
    "\n",
    "hours = time_difference // 3600\n",
    "minutes = (time_difference % 3600) // 60\n",
    "seconds = time_difference % 60\n",
    "\n",
    "print(f'남은 시간: {hours}시간 {minutes}분 {seconds}초')"
   ]
  },
  {
   "cell_type": "code",
   "execution_count": null,
   "id": "8cd7019d",
   "metadata": {},
   "outputs": [],
   "source": [
    "문자와 숫자가섞인 문자열을 입력받을때 구별하여출력해라"
   ]
  },
  {
   "cell_type": "code",
   "execution_count": 20,
   "id": "5441b252",
   "metadata": {},
   "outputs": [
    {
     "name": "stdout",
     "output_type": "stream",
     "text": [
      "dsjkfl2332 dshj22\n",
      "int: 233222\n",
      "str: dsjkfldshj\n"
     ]
    }
   ],
   "source": [
    "a = input()\n",
    "digits = ''.join(filter(str.isdigit, a))\n",
    "strings = ''.join(filter(str.isalpha, a))\n",
    "print('int:',digits)\n",
    "print('str:',strings)"
   ]
  },
  {
   "cell_type": "markdown",
   "id": "7f246f12",
   "metadata": {},
   "source": [
    "직각삼각형의 밑변이 x, 높이가 y일 때 남은 변(대각선)의 길이를 구하는 함수"
   ]
  },
  {
   "cell_type": "code",
   "execution_count": 27,
   "id": "85f764b7",
   "metadata": {},
   "outputs": [
    {
     "name": "stdout",
     "output_type": "stream",
     "text": [
      "5.0\n"
     ]
    }
   ],
   "source": [
    "def diagonal(x,y):\n",
    "    result = (x**2+y**2)**(1/2)\n",
    "    print(result)\n",
    "diagonal(3, 4)"
   ]
  }
 ],
 "metadata": {
  "kernelspec": {
   "display_name": "Python 3 (ipykernel)",
   "language": "python",
   "name": "python3"
  },
  "language_info": {
   "codemirror_mode": {
    "name": "ipython",
    "version": 3
   },
   "file_extension": ".py",
   "mimetype": "text/x-python",
   "name": "python",
   "nbconvert_exporter": "python",
   "pygments_lexer": "ipython3",
   "version": "3.10.9"
  }
 },
 "nbformat": 4,
 "nbformat_minor": 5
}
