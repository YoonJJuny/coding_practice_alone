{
 "cells": [
  {
   "cell_type": "code",
   "execution_count": null,
   "metadata": {
    "colab": {
     "base_uri": "https://localhost:8080/"
    },
    "executionInfo": {
     "elapsed": 4,
     "status": "ok",
     "timestamp": 1683613203374,
     "user": {
      "displayName": "윤지훈",
      "userId": "17206671627036669664"
     },
     "user_tz": -540
    },
    "id": "dkkyPtlGIvBg",
    "outputId": "234e317e-c7eb-4c40-de69-a7f6722bf718"
   },
   "outputs": [
    {
     "data": {
      "text/plain": [
       "[4, 8, 12, 16, 20, 24, 28, 32, 36]"
      ]
     },
     "execution_count": 9,
     "metadata": {},
     "output_type": "execute_result"
    }
   ],
   "source": [
    "# 구구단\n",
    "def gugu(n):\n",
    "    a = []\n",
    "    i = 1\n",
    "    while i < 10:\n",
    "        a.append(n*i)\n",
    "        i = i + 1\n",
    "    return a\n",
    "        \n",
    "gugu(4)"
   ]
  },
  {
   "cell_type": "code",
   "execution_count": null,
   "metadata": {
    "colab": {
     "base_uri": "https://localhost:8080/"
    },
    "executionInfo": {
     "elapsed": 620,
     "status": "ok",
     "timestamp": 1683614996642,
     "user": {
      "displayName": "윤지훈",
      "userId": "17206671627036669664"
     },
     "user_tz": -540
    },
    "id": "M98GNzoXLRe0",
    "outputId": "7a89fdeb-c0d4-4aa6-ea43-1e33687a6cb1"
   },
   "outputs": [
    {
     "name": "stdout",
     "output_type": "stream",
     "text": [
      "2318\n"
     ]
    }
   ],
   "source": [
    "# 10 미만의 자연수에서 3과 5의 배수를 구하면 3, 5, 6, 9이다. 이들의 총합은 23이다.\n",
    "# 1000 미만의 자연수에서 3의 배수와 5의 배수의 총합을 구하라.\n",
    "result = 0\n",
    "for i in range(1,100):\n",
    "    if i%3 == 0:\n",
    "        result = result + i\n",
    "    if i%5 == 0:\n",
    "        result = result + i\n",
    "    if i%15 == 0:\n",
    "        result = result - i\n",
    "print(result)"
   ]
  },
  {
   "cell_type": "code",
   "execution_count": null,
   "metadata": {
    "colab": {
     "base_uri": "https://localhost:8080/"
    },
    "executionInfo": {
     "elapsed": 4,
     "status": "ok",
     "timestamp": 1683615002239,
     "user": {
      "displayName": "윤지훈",
      "userId": "17206671627036669664"
     },
     "user_tz": -540
    },
    "id": "Gz1oZXFdPnZ9",
    "outputId": "8c7c4cfb-6bc9-415c-bdbc-781c8b415746"
   },
   "outputs": [
    {
     "name": "stdout",
     "output_type": "stream",
     "text": [
      "2318\n"
     ]
    }
   ],
   "source": [
    "result = 0\n",
    "for n in range(1, 100):\n",
    "    if n % 3 == 0 or n % 5 == 0: \n",
    "        result += n\n",
    "print(result)"
   ]
  },
  {
   "cell_type": "code",
   "execution_count": null,
   "metadata": {
    "colab": {
     "base_uri": "https://localhost:8080/"
    },
    "executionInfo": {
     "elapsed": 4,
     "status": "ok",
     "timestamp": 1683617420153,
     "user": {
      "displayName": "윤지훈",
      "userId": "17206671627036669664"
     },
     "user_tz": -540
    },
    "id": "Qh2IzdkTXvID",
    "outputId": "05995bd8-68d8-41bd-cc9e-38a35161a756"
   },
   "outputs": [
    {
     "data": {
      "text/plain": [
       "[1, 2, 3, 5, 8, 13, 21, 34, 55, 89]"
      ]
     },
     "execution_count": 77,
     "metadata": {},
     "output_type": "execute_result"
    }
   ],
   "source": [
    "def fibonacci(n):\n",
    "    a, b = 1, 2\n",
    "    result = []\n",
    "    while a <= n:\n",
    "        result.append(a)\n",
    "        a, b = b, a + b\n",
    "    return result\n",
    "fibonacci(100)"
   ]
  },
  {
   "cell_type": "code",
   "execution_count": null,
   "metadata": {
    "colab": {
     "base_uri": "https://localhost:8080/"
    },
    "executionInfo": {
     "elapsed": 4,
     "status": "ok",
     "timestamp": 1683619687054,
     "user": {
      "displayName": "윤지훈",
      "userId": "17206671627036669664"
     },
     "user_tz": -540
    },
    "id": "BzJj4SVYa-of",
    "outputId": "1015a777-4418-416f-bc6f-3dfd04761ce8"
   },
   "outputs": [
    {
     "data": {
      "text/plain": [
       "[2, 2, 103]"
      ]
     },
     "execution_count": 99,
     "metadata": {},
     "output_type": "execute_result"
    }
   ],
   "source": [
    "# 소인수분해\n",
    "def factorize(n):\n",
    "    factors = []\n",
    "    d = 2\n",
    "    while d * d <= n:\n",
    "        while (n % d) == 0:\n",
    "            factors.append(d)\n",
    "            n //= d\n",
    "        d += 1\n",
    "    if n > 1:\n",
    "        factors.append(n)\n",
    "    return factors\n",
    "factorize(412)"
   ]
  },
  {
   "cell_type": "code",
   "execution_count": null,
   "metadata": {
    "colab": {
     "base_uri": "https://localhost:8080/"
    },
    "executionInfo": {
     "elapsed": 3,
     "status": "ok",
     "timestamp": 1683620427236,
     "user": {
      "displayName": "윤지훈",
      "userId": "17206671627036669664"
     },
     "user_tz": -540
    },
    "id": "rDlX5zEJjaWL",
    "outputId": "2678071b-a08b-4e0d-8c90-6d4094225266"
   },
   "outputs": [
    {
     "data": {
      "text/plain": [
       "232792560"
      ]
     },
     "execution_count": 121,
     "metadata": {},
     "output_type": "execute_result"
    }
   ],
   "source": [
    "# 일정 범위 숫자들의 최소공배수\n",
    "import math\n",
    "\n",
    "math.lcm(*range(1, 21))"
   ]
  },
  {
   "cell_type": "code",
   "execution_count": null,
   "metadata": {
    "colab": {
     "base_uri": "https://localhost:8080/"
    },
    "executionInfo": {
     "elapsed": 349,
     "status": "ok",
     "timestamp": 1683621277254,
     "user": {
      "displayName": "윤지훈",
      "userId": "17206671627036669664"
     },
     "user_tz": -540
    },
    "id": "CzzA70kwmT4q",
    "outputId": "98df9f59-3520-4b5d-ce63-50a143a3efc7"
   },
   "outputs": [
    {
     "data": {
      "text/plain": [
       "2640"
      ]
     },
     "execution_count": 139,
     "metadata": {},
     "output_type": "execute_result"
    }
   ],
   "source": [
    "# Sum square difference\n",
    "def squar(n):\n",
    "    a = []\n",
    "    for i in range(n+1):\n",
    "        a.append(i**2)\n",
    "        b= sum(a)\n",
    "    return b\n",
    "\n",
    "\n",
    "def sums(m):\n",
    "    c = []\n",
    "    for j in range(m+1):\n",
    "        c.append(j)\n",
    "        d = sum(c)\n",
    "    return d**2\n",
    "\n",
    "sums(10) - squar(10)"
   ]
  },
  {
   "cell_type": "code",
   "execution_count": 36,
   "metadata": {
    "colab": {
     "base_uri": "https://localhost:8080/"
    },
    "executionInfo": {
     "elapsed": 302,
     "status": "ok",
     "timestamp": 1683705737596,
     "user": {
      "displayName": "윤지훈",
      "userId": "17206671627036669664"
     },
     "user_tz": -540
    },
    "id": "D7gCuUbGpkN4",
    "outputId": "c0e228d9-027b-4a71-a8ae-77de75e929de"
   },
   "outputs": [
    {
     "name": "stdout",
     "output_type": "stream",
     "text": [
      "5 12 13\n"
     ]
    }
   ],
   "source": [
    "# a+b+c = 1000을 만족하는 피타고라스의 정리\n",
    "def pytha(n):\n",
    "    for a in range(1, n//3):\n",
    "        for b in range(a+1, n//2):\n",
    "            c = n - a - b\n",
    "            if a**2 + b**2 == c**2:\n",
    "                print(a , b , c)\n",
    "pytha(30)"
   ]
  },
  {
   "cell_type": "code",
   "execution_count": null,
   "metadata": {
    "colab": {
     "base_uri": "https://localhost:8080/"
    },
    "executionInfo": {
     "elapsed": 4,
     "status": "ok",
     "timestamp": 1683622088350,
     "user": {
      "displayName": "윤지훈",
      "userId": "17206671627036669664"
     },
     "user_tz": -540
    },
    "id": "lZuFeMt4r1L6",
    "outputId": "24da054c-c398-43b4-f7be-b71efaef695a"
   },
   "outputs": [
    {
     "name": "stdout",
     "output_type": "stream",
     "text": [
      "4227\n"
     ]
    }
   ],
   "source": [
    "# 소수의 합\n",
    "def primes_sum(n):\n",
    "    primes = [True] * n\n",
    "    primes[0], primes[1] = False, False\n",
    "    for i in range(2, int(n**0.5)+1):\n",
    "        if primes[i]:\n",
    "            for j in range(i*i, n, i):\n",
    "                primes[j] = False\n",
    "    return sum(i for i in range(n) if primes[i])\n",
    "\n",
    "print(primes_sum(200))"
   ]
  },
  {
   "cell_type": "code",
   "execution_count": 37,
   "metadata": {
    "colab": {
     "base_uri": "https://localhost:8080/"
    },
    "executionInfo": {
     "elapsed": 489,
     "status": "ok",
     "timestamp": 1683705813200,
     "user": {
      "displayName": "윤지훈",
      "userId": "17206671627036669664"
     },
     "user_tz": -540
    },
    "id": "dYJOKtwTGGpJ",
    "outputId": "a7042941-f984-4618-b2f5-0cca61ab3008"
   },
   "outputs": [
    {
     "name": "stdout",
     "output_type": "stream",
     "text": [
      "40\n",
      "20\n",
      "10\n",
      "5\n",
      "16\n",
      "8\n",
      "4\n",
      "2\n",
      "1\n"
     ]
    },
    {
     "data": {
      "text/plain": [
       "1.0"
      ]
     },
     "execution_count": 37,
     "metadata": {},
     "output_type": "execute_result"
    }
   ],
   "source": [
    "# Collatz sequence\n",
    "def Collatz(n):\n",
    "    while n != 1:\n",
    "        if n % 2 == 0:\n",
    "            n = n / 2\n",
    "        else:\n",
    "            n = 3 * n + 1\n",
    "        print(int(n))\n",
    "    return n\n",
    "\n",
    "Collatz(13)"
   ]
  },
  {
   "cell_type": "code",
   "execution_count": null,
   "metadata": {
    "colab": {
     "base_uri": "https://localhost:8080/"
    },
    "executionInfo": {
     "elapsed": 298,
     "status": "ok",
     "timestamp": 1683697387363,
     "user": {
      "displayName": "윤지훈",
      "userId": "17206671627036669664"
     },
     "user_tz": -540
    },
    "id": "XQRgMMdnHN6C",
    "outputId": "4e8c87f8-1b02-4ace-c543-16c4f02bd452"
   },
   "outputs": [
    {
     "data": {
      "text/plain": [
       "26"
      ]
     },
     "execution_count": 18,
     "metadata": {},
     "output_type": "execute_result"
    }
   ],
   "source": [
    "# Power digit sum\n",
    "def sqsum(n):\n",
    "    a = 2**n\n",
    "    b = a//10000\n",
    "    c = (a-10000*b)//1000\n",
    "    d = (a-10000*b-1000*c)//100\n",
    "    e = (a-10000*b-1000*c-100*d)//10\n",
    "    f = (a-10000*b-1000*c-100*d-10*e)\n",
    "    return b+c+d+e+f\n",
    "sqsum(15)"
   ]
  },
  {
   "cell_type": "code",
   "execution_count": null,
   "metadata": {
    "colab": {
     "base_uri": "https://localhost:8080/"
    },
    "executionInfo": {
     "elapsed": 5,
     "status": "ok",
     "timestamp": 1683697712769,
     "user": {
      "displayName": "윤지훈",
      "userId": "17206671627036669664"
     },
     "user_tz": -540
    },
    "id": "7ep1hWzxMMAG",
    "outputId": "cb68972f-fba1-4ad5-9d17-baf45dcd378f"
   },
   "outputs": [
    {
     "name": "stdout",
     "output_type": "stream",
     "text": [
      "1366\n"
     ]
    }
   ],
   "source": [
    "def digit_sum(n):\n",
    "    a = 2 ** n\n",
    "    b = sum(int(digit) for digit in str(a))\n",
    "    print(b)\n",
    "digit_sum(1000)"
   ]
  },
  {
   "cell_type": "code",
   "execution_count": 17,
   "metadata": {
    "colab": {
     "base_uri": "https://localhost:8080/"
    },
    "executionInfo": {
     "elapsed": 299,
     "status": "ok",
     "timestamp": 1683704545710,
     "user": {
      "displayName": "윤지훈",
      "userId": "17206671627036669664"
     },
     "user_tz": -540
    },
    "id": "An2mFK_XNE7R",
    "outputId": "87c3c1ca-cef5-47f9-8c27-0bffa2c8ef04"
   },
   "outputs": [
    {
     "name": "stdout",
     "output_type": "stream",
     "text": [
      "648\n"
     ]
    },
    {
     "data": {
      "text/plain": [
       "3628800"
      ]
     },
     "execution_count": 17,
     "metadata": {},
     "output_type": "execute_result"
    }
   ],
   "source": [
    "# Factorial digit sum\n",
    "def factorial(n):\n",
    "    if n == 1:\n",
    "        return 1\n",
    "    else :\n",
    "        return n*factorial(n-1)\n",
    "\n",
    "def fds(n):\n",
    "    a = sum(int(i) for i in str((factorial(n))))\n",
    "    print(a)\n",
    "\n",
    "fds(100)\n",
    "factorial(10)"
   ]
  },
  {
   "cell_type": "code",
   "execution_count": null,
   "metadata": {
    "id": "cXG2czzElWKw"
   },
   "outputs": [],
   "source": []
  }
 ],
 "metadata": {
  "accelerator": "GPU",
  "colab": {
   "authorship_tag": "ABX9TyPM55LhUTCHO3KG8jXUpPJR",
   "gpuType": "T4",
   "provenance": []
  },
  "gpuClass": "standard",
  "kernelspec": {
   "display_name": "Python 3 (ipykernel)",
   "language": "python",
   "name": "python3"
  },
  "language_info": {
   "codemirror_mode": {
    "name": "ipython",
    "version": 3
   },
   "file_extension": ".py",
   "mimetype": "text/x-python",
   "name": "python",
   "nbconvert_exporter": "python",
   "pygments_lexer": "ipython3",
   "version": "3.10.9"
  }
 },
 "nbformat": 4,
 "nbformat_minor": 1
}
